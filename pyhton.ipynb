{
  "nbformat": 4,
  "nbformat_minor": 0,
  "metadata": {
    "colab": {
      "provenance": []
    },
    "kernelspec": {
      "name": "python3",
      "display_name": "Python 3"
    },
    "language_info": {
      "name": "python"
    }
  },
  "cells": [
    {
      "cell_type": "markdown",
      "source": [
        "# 1. Area of a Rectangle"
      ],
      "metadata": {
        "id": "4MF8e300nqx_"
      }
    },
    {
      "cell_type": "code",
      "source": [
        "len = float(input(\"Enter length of rectangle: \"))\n",
        "bredt = float(input(\"Enter breadth of rectangle: \"))\n",
        "area = len * bredt\n",
        "print(\"Area of rectangle =\", area)"
      ],
      "metadata": {
        "id": "id4CSQkcnuoU"
      },
      "execution_count": null,
      "outputs": []
    },
    {
      "cell_type": "markdown",
      "source": [
        "# 2. Read Two Strings"
      ],
      "metadata": {
        "id": "beDo64IKn_rw"
      }
    },
    {
      "cell_type": "code",
      "source": [
        "str1 = input(\"Enter first string: \")\n",
        "str2 = input(\"Enter second string: \")\n",
        "print(\"String 1:\", str1)\n",
        "print(\"String 2:\", str2)"
      ],
      "metadata": {
        "id": "dGxPJn0EoEOm"
      },
      "execution_count": null,
      "outputs": []
    },
    {
      "cell_type": "markdown",
      "source": [
        "# 3. Read and Display Various Data Types"
      ],
      "metadata": {
        "id": "XFUgN5wFoHW4"
      }
    },
    {
      "cell_type": "code",
      "source": [
        "i = int(input(\" integer: \"))\n",
        "f = float(input( float: \"))\n",
        "s = input(\"  string: \")\n",
        "b = input(\" boolean  \") == 'True'\n",
        "print(\"Integer:\", i, type(i))\n",
        "print(\"Float:\", f, type(f))\n",
        "print(\"String:\", s, type(s))\n",
        "print(\"Boolean:\", b, type(b))\n"
      ],
      "metadata": {
        "id": "E5va_edYoKUG"
      },
      "execution_count": null,
      "outputs": []
    },
    {
      "cell_type": "markdown",
      "source": [
        "# 4. Calculate"
      ],
      "metadata": {
        "id": "W_UOpBmZoWzy"
      }
    },
    {
      "cell_type": "code",
      "source": [
        "u = float(input(\" initial velocity \"))\n",
        "a = float(input(\"Enter acceleration \"))\n",
        "t = float(input(\"Enter time \"))\n",
        "v = u * t + 0.5 * a * t**2\n",
        "print(\"Final velocity\", v)"
      ],
      "metadata": {
        "id": "oV2Kz1PuocBM"
      },
      "execution_count": null,
      "outputs": []
    },
    {
      "cell_type": "markdown",
      "source": [
        "#5. Find Radius of a Circle"
      ],
      "metadata": {
        "id": "MAQR-PtSomdE"
      }
    },
    {
      "cell_type": "code",
      "source": [
        "import math\n",
        "area = float(input(\"Enter the area of the circle: \"))\n",
        "radius = math.sqrt(area / math.pi)\n",
        "print(\"Radius of the circle \", radius)\n"
      ],
      "metadata": {
        "id": "HNaNP6C5oqTQ"
      },
      "execution_count": null,
      "outputs": []
    },
    {
      "cell_type": "markdown",
      "source": [
        "# 6. Find Profit"
      ],
      "metadata": {
        "id": "sy39Lxwkowe8"
      }
    },
    {
      "cell_type": "code",
      "source": [
        "costprice = float(input(\"Enter cost price \"))\n",
        "sellingprice = float(input(\"Enter selling price \"))\n",
        "profit = sellingprice - costprice\n",
        "print(\"Profit earned \", profit)"
      ],
      "metadata": {
        "id": "FxjSBFi4o0mm"
      },
      "execution_count": null,
      "outputs": []
    },
    {
      "cell_type": "markdown",
      "source": [
        "#7. Celsius to Fahrenheit"
      ],
      "metadata": {
        "id": "hsTu77myo_pj"
      }
    },
    {
      "cell_type": "code",
      "source": [
        "celsius = float(input(\"Enter temperature in Celsius: \"))\n",
        "fahrenheit = (celsius * 9/5) + 32\n",
        "print(\"Temperature in Fahrenheit:\", fahrenheit)"
      ],
      "metadata": {
        "id": "fA7ErmGXpG1v"
      },
      "execution_count": null,
      "outputs": []
    },
    {
      "cell_type": "markdown",
      "source": [
        "# 8. Grams to Kilograms and Grams"
      ],
      "metadata": {
        "id": "UL2LUgD4pLzM"
      }
    },
    {
      "cell_type": "code",
      "source": [
        "totalgrams = int(input(\"Enter weight in grams: \"))\n",
        "kilograms = total_grams // 1000\n",
        "grams = totalgrams % 1000\n",
        "print(\"Weight\", kilograms, \"kg and\", grams, \"g\")"
      ],
      "metadata": {
        "id": "fDnw9NJipPrV"
      },
      "execution_count": null,
      "outputs": []
    },
    {
      "cell_type": "markdown",
      "source": [
        "# 9. Reverse a 4-digit Number"
      ],
      "metadata": {
        "id": "V1pbH1kspXGu"
      }
    },
    {
      "cell_type": "code",
      "source": [
        "num = int(input(\"Enter a 4-digit number: \"))\n",
        "rev = 0\n",
        "rev += (num % 10) * 1000\n",
        "num = num // 10\n",
        "rev += (num % 10) * 100\n",
        "num = num // 10\n",
        "rev += (num % 10) * 10\n",
        "num = num // 10\n",
        "rev += num\n",
        "print(\"Reversed number:\", rev)\n"
      ],
      "metadata": {
        "id": "26hz11a9pdQO"
      },
      "execution_count": null,
      "outputs": []
    },
    {
      "cell_type": "markdown",
      "source": [
        "# 10. Distance Between Two Points"
      ],
      "metadata": {
        "id": "DujP8GWmpgvF"
      }
    },
    {
      "cell_type": "code",
      "source": [
        "import math\n",
        "x1 = float(input(\" x1: \"))\n",
        "y1 = float(input(\" y1: \"))\n",
        "x2 = float(input(\" x2: \"))\n",
        "y2 = float(input(\" y2: \"))\n",
        "dist= math.sqrt((x2 - x1)**2 + (y2 - y1)**2)\n",
        "print(\"Distance between points =\", dist)"
      ],
      "metadata": {
        "id": "_Diuew6epkYc"
      },
      "execution_count": null,
      "outputs": []
    },
    {
      "cell_type": "markdown",
      "source": [
        "# 11. Power Table"
      ],
      "metadata": {
        "id": "cK4rN6c8px-R"
      }
    },
    {
      "cell_type": "code",
      "source": [
        "print(\"X Y X**Y\")\n",
        "print(\"10 2\", 10**2)\n",
        "print(\"10 3\", 10**3)\n",
        "print(\"10 4\", 10**4)\n",
        "print(\"10 5\", 10**5)\n"
      ],
      "metadata": {
        "id": "Ut7PKMmhp3Ty"
      },
      "execution_count": null,
      "outputs": []
    }
  ]
}